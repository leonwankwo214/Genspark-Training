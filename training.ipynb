{
 "cells": [
  {
   "cell_type": "markdown",
   "metadata": {},
   "source": [
    "08/29/22"
   ]
  },
  {
   "cell_type": "markdown",
   "metadata": {},
   "source": [
    "A list rotation consists of taking the last element and moving it to the front. For instance, if we rotate the list [1,2,3,4,5], we get [5,1,2,3,4]. If we rotate again we get [4,5,1,2,3]. Write a python function rotatelist(ls,k) that takes a list ls and a positive integer k and returns the list ls after k rotations. If k is not positive, your function should return ls unchanged. Note that your function should not change ls itself and should return rotated list."
   ]
  },
  {
   "cell_type": "code",
   "execution_count": 3,
   "metadata": {},
   "outputs": [],
   "source": [
    "def rotatelist(k):\n",
    "  sz = int(input('Enter size of your list: '))\n",
    "  ls = []\n",
    "  for r in range(sz):\n",
    "    ls_item = int(input('Enter next item in your list: '))\n",
    "    ls.append(ls_item)\n",
    "  for i in range(k):\n",
    "    stick = [ls.pop()]\n",
    "    ls = stick + ls\n",
    "\n",
    "  return ls"
   ]
  },
  {
   "cell_type": "code",
   "execution_count": 4,
   "metadata": {},
   "outputs": [
    {
     "data": {
      "text/plain": [
       "[2, 5, 4, 3]"
      ]
     },
     "execution_count": 4,
     "metadata": {},
     "output_type": "execute_result"
    }
   ],
   "source": [
    "rotatelist(5)"
   ]
  },
  {
   "cell_type": "markdown",
   "metadata": {},
   "source": [
    "1. Define a python function ascending(ls) that returns True if each element in its input list is at least as big as the one before it. For empty list, it should be True"
   ]
  },
  {
   "cell_type": "code",
   "execution_count": 7,
   "metadata": {},
   "outputs": [],
   "source": [
    "# Problem 1\n",
    "def ascending(ls):\n",
    "    now = ls[0]\n",
    "    flag = True\n",
    "    for next in ls[1:]:\n",
    "        if now > next:\n",
    "            flag = False\n",
    "            print(now)\n",
    "            break\n",
    "    now = next\n",
    "    return flag"
   ]
  },
  {
   "cell_type": "code",
   "execution_count": 8,
   "metadata": {},
   "outputs": [
    {
     "data": {
      "text/plain": [
       "True"
      ]
     },
     "execution_count": 8,
     "metadata": {},
     "output_type": "execute_result"
    }
   ],
   "source": [
    "ascending([1,2,4,3])"
   ]
  },
  {
   "cell_type": "markdown",
   "metadata": {},
   "source": [
    "2. Write a program to read a string. Count number of occurances of each character in the string. Use Dictionary"
   ]
  },
  {
   "cell_type": "code",
   "execution_count": 16,
   "metadata": {},
   "outputs": [],
   "source": [
    "def count_char(str_entry):\n",
    "    alphabet = 'abcdefghijklmnopqrstuvwxyz'\n",
    "    str_entry = str_entry.lower()\n",
    "    count_dict = {}\n",
    "    for letter in alphabet:\n",
    "        if letter in str_entry:\n",
    "            count_dict[letter] = str_entry.count(letter)\n",
    "    return count_dict\n",
    "\n",
    "\n"
   ]
  },
  {
   "cell_type": "code",
   "execution_count": 17,
   "metadata": {},
   "outputs": [
    {
     "data": {
      "text/plain": [
       "{'a': 1,\n",
       " 'b': 1,\n",
       " 'e': 3,\n",
       " 'g': 1,\n",
       " 'h': 1,\n",
       " 'i': 1,\n",
       " 'k': 1,\n",
       " 'n': 1,\n",
       " 'p': 1,\n",
       " 'r': 1,\n",
       " 's': 3,\n",
       " 't': 2}"
      ]
     },
     "execution_count": 17,
     "metadata": {},
     "output_type": "execute_result"
    }
   ],
   "source": [
    "count_char('Genspark is the best')"
   ]
  },
  {
   "cell_type": "markdown",
   "metadata": {},
   "source": [
    "3. Read a sentence as a keyboard input. Craete a list of all words in the sentence such that they are arranged in the descending order of their length"
   ]
  },
  {
   "cell_type": "code",
   "execution_count": 49,
   "metadata": {},
   "outputs": [],
   "source": [
    "def word_len(word):\n",
    "    return len(word)\n",
    "\n",
    "def sentence_splitter(sentence):\n",
    "    word_list = sentence.split()\n",
    "    size_key  = []\n",
    "    for word in word_list:\n",
    "        size_key = size_key + [len(word)]\n",
    "    word_list.sort(key=word_len)\n",
    "    return word_list\n"
   ]
  },
  {
   "cell_type": "code",
   "execution_count": 51,
   "metadata": {},
   "outputs": [
    {
     "data": {
      "text/plain": [
       "['is', 'the', 'best', 'Genspark']"
      ]
     },
     "execution_count": 51,
     "metadata": {},
     "output_type": "execute_result"
    }
   ],
   "source": [
    "sentence_splitter('Genspark is the best')\n"
   ]
  }
 ],
 "metadata": {
  "kernelspec": {
   "display_name": "Python 3.10.6 64-bit (windows store)",
   "language": "python",
   "name": "python3"
  },
  "language_info": {
   "codemirror_mode": {
    "name": "ipython",
    "version": 3
   },
   "file_extension": ".py",
   "mimetype": "text/x-python",
   "name": "python",
   "nbconvert_exporter": "python",
   "pygments_lexer": "ipython3",
   "version": "3.10.6"
  },
  "orig_nbformat": 4,
  "vscode": {
   "interpreter": {
    "hash": "58b17fffe37d2cd7ef08571dbfc182dfce6cdb840066a7241debdcb3cfa52849"
   }
  }
 },
 "nbformat": 4,
 "nbformat_minor": 2
}
