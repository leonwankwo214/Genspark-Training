{
 "cells": [
  {
   "cell_type": "markdown",
   "metadata": {},
   "source": [
    "# Numpy Exercise Solution  <img src = \"numpy1.png\">\n",
    "###### Authored by "
   ]
  },
  {
   "cell_type": "markdown",
   "metadata": {},
   "source": [
    "#### 1. Create a numpy array with the number of elements equals your age. The value of array elements is a random number between 10 to your age "
   ]
  },
  {
   "cell_type": "code",
   "execution_count": 2,
   "metadata": {},
   "outputs": [
    {
     "data": {
      "text/plain": [
       "array([20, 13, 18, 18, 11, 21, 19, 27, 28, 25, 23, 17, 16, 11, 15, 18, 23,\n",
       "       26, 20, 22, 23, 28, 23, 12, 26, 27, 14, 23])"
      ]
     },
     "execution_count": 2,
     "metadata": {},
     "output_type": "execute_result"
    }
   ],
   "source": [
    "import numpy as np\n",
    "x = np.random.randint(10,32,28)"
   ]
  },
  {
   "cell_type": "markdown",
   "metadata": {},
   "source": [
    "#### 2. Create a numpy array between 1 to 50 with the span(space) of 2 and print the length of the array"
   ]
  },
  {
   "cell_type": "code",
   "execution_count": 11,
   "metadata": {},
   "outputs": [
    {
     "data": {
      "text/plain": [
       "25"
      ]
     },
     "execution_count": 11,
     "metadata": {},
     "output_type": "execute_result"
    }
   ],
   "source": [
    "y = np.arange(1,50,2)\n",
    "len(y)"
   ]
  },
  {
   "cell_type": "markdown",
   "metadata": {},
   "source": [
    "#### 3. Create an equally spaced numpy array with 27 elements between 4 and 7 "
   ]
  },
  {
   "cell_type": "code",
   "execution_count": 12,
   "metadata": {},
   "outputs": [
    {
     "data": {
      "text/plain": [
       "array([4.        , 4.11538462, 4.23076923, 4.34615385, 4.46153846,\n",
       "       4.57692308, 4.69230769, 4.80769231, 4.92307692, 5.03846154,\n",
       "       5.15384615, 5.26923077, 5.38461538, 5.5       , 5.61538462,\n",
       "       5.73076923, 5.84615385, 5.96153846, 6.07692308, 6.19230769,\n",
       "       6.30769231, 6.42307692, 6.53846154, 6.65384615, 6.76923077,\n",
       "       6.88461538, 7.        ])"
      ]
     },
     "execution_count": 12,
     "metadata": {},
     "output_type": "execute_result"
    }
   ],
   "source": [
    "np.linspace(4,7,27)"
   ]
  },
  {
   "cell_type": "markdown",
   "metadata": {},
   "source": [
    "#### 4. Create a matrix of size (5 x 4) with random numbers and round off the each elements by only 2 fractional points."
   ]
  },
  {
   "cell_type": "code",
   "execution_count": 13,
   "metadata": {},
   "outputs": [
    {
     "data": {
      "text/plain": [
       "array([[0.5172729 , 0.23090478, 0.81439646, 0.74677946],\n",
       "       [0.25966492, 0.21320519, 0.56154274, 0.32126813],\n",
       "       [0.9512773 , 0.95862848, 0.46312607, 0.52132791],\n",
       "       [0.21491147, 0.40961918, 0.55421941, 0.91000798],\n",
       "       [0.62788269, 0.95351652, 0.24194204, 0.53893188]])"
      ]
     },
     "execution_count": 13,
     "metadata": {},
     "output_type": "execute_result"
    }
   ],
   "source": [
    "np.random.rand(5,4)\n",
    "#how to specify decimal points"
   ]
  },
  {
   "cell_type": "markdown",
   "metadata": {},
   "source": [
    "#### 5. Create a matrix of size (5x5) with random integers between 5 to 15"
   ]
  },
  {
   "cell_type": "code",
   "execution_count": 14,
   "metadata": {},
   "outputs": [
    {
     "data": {
      "text/plain": [
       "array([[ 5,  6,  9, 12,  9],\n",
       "       [ 5, 11,  7, 11, 10],\n",
       "       [10,  7,  9,  7, 12],\n",
       "       [ 7, 10, 13,  6, 12],\n",
       "       [10, 11,  8, 10,  8]])"
      ]
     },
     "execution_count": 14,
     "metadata": {},
     "output_type": "execute_result"
    }
   ],
   "source": [
    "np.random.randint(5,15,size = (5,5))"
   ]
  },
  {
   "cell_type": "markdown",
   "metadata": {},
   "source": [
    "#### 6. Create the one dimensional array of zeros of random length below 20 with the data type int32"
   ]
  },
  {
   "cell_type": "code",
   "execution_count": 23,
   "metadata": {},
   "outputs": [
    {
     "data": {
      "text/plain": [
       "array([0.])"
      ]
     },
     "execution_count": 23,
     "metadata": {},
     "output_type": "execute_result"
    }
   ],
   "source": [
    "np.zeros(np.random.randint(1,20,dtype='int32'))"
   ]
  },
  {
   "cell_type": "markdown",
   "metadata": {},
   "source": [
    "#### 7. Create a two dimensional array of ones of random row and column lengths with the data type of float32 "
   ]
  },
  {
   "cell_type": "code",
   "execution_count": 41,
   "metadata": {},
   "outputs": [
    {
     "data": {
      "text/plain": [
       "array([[1., 1., 1., 1., 1., 1., 1., 1., 1.],\n",
       "       [1., 1., 1., 1., 1., 1., 1., 1., 1.],\n",
       "       [1., 1., 1., 1., 1., 1., 1., 1., 1.],\n",
       "       [1., 1., 1., 1., 1., 1., 1., 1., 1.],\n",
       "       [1., 1., 1., 1., 1., 1., 1., 1., 1.],\n",
       "       [1., 1., 1., 1., 1., 1., 1., 1., 1.],\n",
       "       [1., 1., 1., 1., 1., 1., 1., 1., 1.],\n",
       "       [1., 1., 1., 1., 1., 1., 1., 1., 1.]], dtype=float32)"
      ]
     },
     "execution_count": 41,
     "metadata": {},
     "output_type": "execute_result"
    }
   ],
   "source": [
    "from numpy import random\n",
    "np.ones((random.randint(1,10),random.randint(1,10)),dtype='float32')"
   ]
  },
  {
   "cell_type": "markdown",
   "metadata": {},
   "source": [
    "#### 8. Create a matrix exactly as same as shown below and print its shape, type and dtype\n",
    "<img src = \"np_mat1.png\">"
   ]
  },
  {
   "cell_type": "code",
   "execution_count": 43,
   "metadata": {},
   "outputs": [
    {
     "data": {
      "text/plain": [
       "array([[ 9, 25, 50, 34, 45],\n",
       "       [ 3, 34, 34, 65,  2],\n",
       "       [ 5,  7,  3, 76,  3],\n",
       "       [ 7,  8,  6, 54,  6],\n",
       "       [23, 12,  8,  5,  8]])"
      ]
     },
     "execution_count": 43,
     "metadata": {},
     "output_type": "execute_result"
    }
   ],
   "source": [
    "s = np.array([[9,25,50,34,45],[3,34,34,65,2],[5,7,3,76,3],[7,8,6,54,6],[23,12,8,5,8]])\n",
    "s"
   ]
  },
  {
   "cell_type": "markdown",
   "metadata": {},
   "source": [
    "#### 9. Access the center pixel of the matrix defined in the question no 8 ( Don't enter the row and column index explicitely)"
   ]
  },
  {
   "cell_type": "code",
   "execution_count": 44,
   "metadata": {},
   "outputs": [
    {
     "data": {
      "text/plain": [
       "3"
      ]
     },
     "execution_count": 44,
     "metadata": {},
     "output_type": "execute_result"
    }
   ],
   "source": [
    "# Solution\n",
    "s[2][2]"
   ]
  },
  {
   "cell_type": "markdown",
   "metadata": {},
   "source": [
    "#### 10. Print the all the elements of 3rd row of the matrix"
   ]
  },
  {
   "cell_type": "code",
   "execution_count": 59,
   "metadata": {},
   "outputs": [
    {
     "data": {
      "text/plain": [
       "array([ 5,  7,  3, 76,  3])"
      ]
     },
     "execution_count": 59,
     "metadata": {},
     "output_type": "execute_result"
    }
   ],
   "source": [
    "# Solution\n",
    "s[2]"
   ]
  },
  {
   "cell_type": "markdown",
   "metadata": {},
   "source": [
    "#### 11. Print the all the elements of 4th columns of the matrix"
   ]
  },
  {
   "cell_type": "code",
   "execution_count": 60,
   "metadata": {},
   "outputs": [
    {
     "data": {
      "text/plain": [
       "array([34, 65, 76, 54,  5])"
      ]
     },
     "execution_count": 60,
     "metadata": {},
     "output_type": "execute_result"
    }
   ],
   "source": [
    "# Solution\n",
    "s[:,3]"
   ]
  },
  {
   "cell_type": "markdown",
   "metadata": {},
   "source": [
    "#### 12. Print the 4 corner pixels of the matrix"
   ]
  },
  {
   "cell_type": "code",
   "execution_count": 68,
   "metadata": {},
   "outputs": [
    {
     "data": {
      "text/plain": [
       "array([ 9,  8, 23, 45])"
      ]
     },
     "execution_count": 68,
     "metadata": {},
     "output_type": "execute_result"
    }
   ],
   "source": [
    "# Solution\n",
    "s[[0,4,4,0],[0,4,0,4]]\n"
   ]
  },
  {
   "cell_type": "markdown",
   "metadata": {},
   "source": [
    "#### 13. Create three matrix m1,m2,m3 with the elements grouped in the figure below\n",
    "<img src = \"np_mat2.png\">"
   ]
  },
  {
   "cell_type": "code",
   "execution_count": 119,
   "metadata": {},
   "outputs": [
    {
     "name": "stdout",
     "output_type": "stream",
     "text": [
      "[[50 34]\n",
      " [34 65]] \n",
      "\n",
      "[[ 7  8]\n",
      " [23 12]] \n",
      "\n",
      "[[ 3 76  3]\n",
      " [ 6 54  6]\n",
      " [ 8  5  8]] \n",
      "\n"
     ]
    }
   ],
   "source": [
    "# Solution \n",
    "m1 = s[:2,2:4]\n",
    "m2 = s[3:,0:2]\n",
    "m3 = s[2:,2:]\n",
    "\n",
    "print(m1,'\\n')\n",
    "print(m2,'\\n')\n",
    "print(m3,'\\n')"
   ]
  },
  {
   "cell_type": "markdown",
   "metadata": {},
   "source": [
    "#### 14. Reshape all the three matrix segmented in the above task in to three  1-dimensional vector."
   ]
  },
  {
   "cell_type": "code",
   "execution_count": 112,
   "metadata": {},
   "outputs": [
    {
     "name": "stdout",
     "output_type": "stream",
     "text": [
      "[[50 34 34 65]] \n",
      "\n",
      "[[ 7  8 23 12]] \n",
      "\n",
      "[[ 3 76  3  6 54  6  8  5  8]] \n",
      "\n"
     ]
    }
   ],
   "source": [
    "m1 = m1.reshape(1,4)\n",
    "m2 = m2.reshape(1,4)\n",
    "m3 = m3.reshape(1,9)\n",
    "\n",
    "print(m1,'\\n')\n",
    "print(m2,'\\n')\n",
    "print(m3,'\\n')"
   ]
  },
  {
   "cell_type": "markdown",
   "metadata": {},
   "source": [
    "#### 15. Concatenate the matrix m1 and m2 in both vertical and horizontal direction"
   ]
  },
  {
   "cell_type": "code",
   "execution_count": 118,
   "metadata": {},
   "outputs": [
    {
     "name": "stdout",
     "output_type": "stream",
     "text": [
      "[[50 34 34 65]\n",
      " [ 7  8 23 12]]\n",
      "[[50 34 34 65  7  8 23 12]]\n"
     ]
    }
   ],
   "source": [
    "# Solution\n",
    "r = np.concatenate([m1,m2])\n",
    "t = np.hstack([m1,m2])\n",
    "print(r)\n",
    "print(t)"
   ]
  },
  {
   "cell_type": "markdown",
   "metadata": {},
   "source": [
    "#### 16. Add, Subtract, multiply, divide the matrixes m1 and m2"
   ]
  },
  {
   "cell_type": "code",
   "execution_count": 122,
   "metadata": {},
   "outputs": [
    {
     "name": "stdout",
     "output_type": "stream",
     "text": [
      "[[57 42]\n",
      " [57 77]] \n",
      "\n",
      "[[43 26]\n",
      " [11 53]] \n",
      "\n",
      "[[350 272]\n",
      " [782 780]] \n",
      "\n",
      "[[7.14285714 4.25      ]\n",
      " [1.47826087 5.41666667]] \n",
      "\n",
      "\n"
     ]
    }
   ],
   "source": [
    "# Solution\n",
    "print(m1+m2,'\\n')\n",
    "\n",
    "print(m1-m2,'\\n')\n",
    "\n",
    "print(m1*m2,'\\n')\n",
    "\n",
    "print(m1/m2,'\\n')\n",
    "\n",
    "print()"
   ]
  },
  {
   "cell_type": "markdown",
   "metadata": {},
   "source": [
    "#### 17. Add the m1 with m3 by removing the first row and last column of m3"
   ]
  },
  {
   "cell_type": "code",
   "execution_count": 135,
   "metadata": {},
   "outputs": [
    {
     "data": {
      "text/plain": [
       "array([[56, 88],\n",
       "       [42, 70]])"
      ]
     },
     "execution_count": 135,
     "metadata": {},
     "output_type": "execute_result"
    }
   ],
   "source": [
    "# Solution\n",
    "m1+m3[1:,:2]"
   ]
  },
  {
   "cell_type": "markdown",
   "metadata": {},
   "source": [
    "#### 18. Form the matrix m4 by concatenating (as a new row) the vector [me1, me2] with the matrix m1, where me1 and me2 are the mean values of each column on m1."
   ]
  },
  {
   "cell_type": "code",
   "execution_count": 143,
   "metadata": {},
   "outputs": [
    {
     "data": {
      "text/plain": [
       "array([[50.  , 34.  ],\n",
       "       [34.  , 65.  ],\n",
       "       [45.75, 12.5 ]])"
      ]
     },
     "execution_count": 143,
     "metadata": {},
     "output_type": "execute_result"
    }
   ],
   "source": [
    "# Solution\n",
    "me1 = np.mean(m1)\n",
    "me2 = np.mean(m2)\n",
    "m4 = np.vstack([m1,np.array([me1,me2])])\n",
    "m4"
   ]
  },
  {
   "cell_type": "markdown",
   "metadata": {},
   "source": [
    "#### 19. Perform the matrix multiplication between m3 and m4"
   ]
  },
  {
   "cell_type": "code",
   "execution_count": 146,
   "metadata": {},
   "outputs": [
    {
     "data": {
      "text/plain": [
       "array([[2871.25, 5079.5 ],\n",
       "       [2410.5 , 3789.  ],\n",
       "       [ 936.  ,  697.  ]])"
      ]
     },
     "execution_count": 146,
     "metadata": {},
     "output_type": "execute_result"
    }
   ],
   "source": [
    "# Solution\n",
    "m3@m4"
   ]
  },
  {
   "cell_type": "markdown",
   "metadata": {},
   "source": [
    "#### 20. Compute the maximum and minimum value of mean, variance, standard deviation for each row of matrix created in question number 8."
   ]
  },
  {
   "cell_type": "code",
   "execution_count": 180,
   "metadata": {},
   "outputs": [],
   "source": [
    "# Solution\n",
    "means = []\n",
    "variances =  []\n",
    "stand_dev = []\n",
    "for i in range(s.shape[0]):\n",
    "    means.append(s[i].mean())\n",
    "    variances.append(s[i].var())\n",
    "    stand_dev.append(s[i].std())\n",
    "\n",
    "means = np.array(means)\n",
    "variances = np.array(variances)\n",
    "stand_dev = np.array(stand_dev)  "
   ]
  },
  {
   "cell_type": "code",
   "execution_count": 181,
   "metadata": {},
   "outputs": [
    {
     "name": "stdout",
     "output_type": "stream",
     "text": [
      "Mean; Max  32.6  Min  11.2\n",
      "Variance; Max  820.1600000000001  Min  39.760000000000005\n",
      "Stand Dev; Max  28.63843571147  Min  6.305553108173779\n"
     ]
    }
   ],
   "source": [
    "print('Mean; Max ',max(means),' Min ',min(means))\n",
    "print('Variance; Max ',max(variances),' Min ',min(variances))\n",
    "print('Stand Dev; Max ',max(stand_dev),' Min ',min(stand_dev))"
   ]
  },
  {
   "cell_type": "markdown",
   "metadata": {},
   "source": [
    "#### 21. Compute the average and strike rate for each player and sort it decending way (seperately for avg and strike rate)\n",
    "<img src = 'crick1.png'>"
   ]
  },
  {
   "cell_type": "code",
   "execution_count": 3,
   "metadata": {},
   "outputs": [],
   "source": [
    "import numpy as np"
   ]
  },
  {
   "cell_type": "code",
   "execution_count": 47,
   "metadata": {},
   "outputs": [
    {
     "name": "stdout",
     "output_type": "stream",
     "text": [
      "\t\tMSD\tKholi\tRohit\tRahul\tDhawan\n",
      "AVERAGE\t\t47.25\t53.5\t51.5\t29.0\t13.25\n",
      "STRIKE RATE\t0.9844\t1.0142\t0.9493\t1.6111\t0.4953\n"
     ]
    }
   ],
   "source": [
    "runs = np.array([[54,60,10,65],[102,2,78,32],[3,110,1,92],[56,6,12,42],[12,8,22,11]])\n",
    "balls = np.array([[50,42,22,78],[95,8,65,43],[9,100,7,101],[27,3,11,31],[24,20,36,27]])\n",
    "\n",
    "avg = np.array([np.mean(i) for i in runs])\n",
    "stkrate = np.array([np.sum(i) for i in runs])/np.array([np.sum(i) for i in balls])\n",
    "print(\"\\t\\tMSD\\tKholi\\tRohit\\tRahul\\tDhawan\")\n",
    "print(\"\\t\".join([\"AVERAGE\\t\"]+[str(nums) for nums in avg.round(2)]))\n",
    "print(\"\\t\".join([\"STRIKE RATE\"]+[str(nums) for nums in stkrate.round(4)]))"
   ]
  },
  {
   "cell_type": "code",
   "execution_count": 37,
   "metadata": {},
   "outputs": [
    {
     "name": "stdout",
     "output_type": "stream",
     "text": [
      "47.25\t53.5\t51.5\t29.0\t13.25\n"
     ]
    }
   ],
   "source": [
    "print(\"\\t\".join([str(nums) for nums in avg.round(2)]))\n"
   ]
  },
  {
   "cell_type": "markdown",
   "metadata": {},
   "source": [
    "#### 22. The students mark was recorded in a numpy array: marks = np.array([65,84,47,56,89,98,48,77,80,39]).  Cutoff for pass is 50 marks. Write the logic to print the number of students passed and failed. "
   ]
  },
  {
   "cell_type": "code",
   "execution_count": 72,
   "metadata": {},
   "outputs": [
    {
     "name": "stdout",
     "output_type": "stream",
     "text": [
      "7 students Passed and 3 Failed the exam\n"
     ]
    }
   ],
   "source": [
    "marks = np.array([65,84,47,56,89,98,48,77,80,39])\n",
    "passed = np.count_nonzero(marks >= 50)\n",
    "failed = np.count_nonzero(marks < 50)\n",
    "\n",
    "print(passed, 'students Passed and',failed,'Failed the exam')\n"
   ]
  },
  {
   "cell_type": "markdown",
   "metadata": {},
   "source": [
    "#### 23. The class incharge decided to give a mercy mark of 5 for those who scored between 45 and 49. Also the bonus of 5 marks awarded to the students who scored more than 80. Print all the student marks and compute the increase in the pass percentage of class. Any score more than 100 must be recorded as only 100."
   ]
  },
  {
   "cell_type": "code",
   "execution_count": 81,
   "metadata": {},
   "outputs": [
    {
     "name": "stdout",
     "output_type": "stream",
     "text": [
      "MERCY MARKS:\t  65  89  52  56  94 100  53  77  85  39\n",
      "ORIGINAL MARKS:\t 65 84 47 56 89 98 48 77 80 39\n"
     ]
    }
   ],
   "source": [
    "adj_marks = np.array([i+5 if (i>=45 and i<=49) or (i>=80 and i<=100) else i for i in marks ])\n",
    "adj_marks = np.array([100 if i>100 else i for i in adj_marks ])\n",
    "print(\"MERCY MARKS:\\t\",''.join(str(adj_marks).replace('[','').replace(']','')))\n",
    "print(\"ORIGINAL MARKS:\\t\",''.join(str(marks)).replace('[','').replace(']',''))\n"
   ]
  },
  {
   "cell_type": "markdown",
   "metadata": {},
   "source": [
    "#### 24. Print the time taken for performing the following operation using list and numpy array\n",
    "####       (x(i)^2 +8) / y(i),   where x and y are real integers from 1 to 60000"
   ]
  },
  {
   "cell_type": "code",
   "execution_count": 95,
   "metadata": {},
   "outputs": [
    {
     "name": "stdout",
     "output_type": "stream",
     "text": [
      "Time Elapsed:  0.01985 s\n"
     ]
    }
   ],
   "source": [
    "import time\n",
    "tic = time.time()\n",
    "x = np.array(range(1,60001))\n",
    "y = np.array(range(1,60001))\n",
    "\n",
    "(x**2+8)/y\n",
    "toc = time.time()\n",
    "\n",
    "print('Time Elapsed: ',round(toc-tic,5),'s')\n"
   ]
  },
  {
   "cell_type": "markdown",
   "metadata": {},
   "source": [
    "#### 25. Create a Github account and upload your solution with the short write-up on Numpy"
   ]
  },
  {
   "cell_type": "code",
   "execution_count": null,
   "metadata": {},
   "outputs": [],
   "source": []
  },
  {
   "cell_type": "code",
   "execution_count": null,
   "metadata": {},
   "outputs": [],
   "source": []
  }
 ],
 "metadata": {
  "kernelspec": {
   "display_name": "Python 3.10.6 64-bit (windows store)",
   "language": "python",
   "name": "python3"
  },
  "language_info": {
   "codemirror_mode": {
    "name": "ipython",
    "version": 3
   },
   "file_extension": ".py",
   "mimetype": "text/x-python",
   "name": "python",
   "nbconvert_exporter": "python",
   "pygments_lexer": "ipython3",
   "version": "3.10.6"
  },
  "vscode": {
   "interpreter": {
    "hash": "58b17fffe37d2cd7ef08571dbfc182dfce6cdb840066a7241debdcb3cfa52849"
   }
  }
 },
 "nbformat": 4,
 "nbformat_minor": 4
}
